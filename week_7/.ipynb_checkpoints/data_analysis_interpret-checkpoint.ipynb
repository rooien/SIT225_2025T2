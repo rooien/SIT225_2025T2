{
 "cells": [
  {
   "cell_type": "markdown",
   "metadata": {},
   "source": [
    "# SIT225: Data Analysis & interpretation\n",
    "\n",
    "Run each cell to generate output and finally convert this notebook to PDF."
   ]
  },
  {
   "cell_type": "code",
   "execution_count": null,
   "metadata": {},
   "outputs": [],
   "source": [
    "# Fill in student ID and name\n",
    "# \n",
    "student_id = \"\"\n",
    "student_first_last_name = \"\"\n",
    "print(student_id, student_first_last_name)"
   ]
  },
  {
   "cell_type": "markdown",
   "metadata": {},
   "source": [
    "# 1. Descriptive Statistics\n",
    "\n",
    "Descriptive statistics summarizes important features of a data set such as:\n",
    "* Count\n",
    "* Sum\n",
    "* Standard deviation\n",
    "* Percentile\n",
    "* Average "
   ]
  },
  {
   "cell_type": "code",
   "execution_count": null,
   "metadata": {},
   "outputs": [],
   "source": [
    "# Make sure necessary packages are already installed.\n",
    "!pip install pandas numpy seaborn\n",
    "\n",
    "import pandas as pd\n",
    "import numpy as np\n",
    "import seaborn as sns\n",
    "\n",
    "full_health_data = pd.read_csv(\"full_health_data.csv\", header=0, sep=\",\")\n",
    "print (full_health_data.describe())"
   ]
  },
  {
   "cell_type": "markdown",
   "metadata": {},
   "source": [
    "## 1.1 Percentile\n",
    "### 25%, 50% and 75% - Percentiles\n",
    "\n",
    "Observe the output of the above cell for 25%, 50% and 75% of all the columns.\n",
    "Let's explain for Average_Pulse:\n",
    "* 25% of all of the training sessions have an average pulse of 100 beats per minute or lower. If we flip the statement, it means that 75% of all of the training sessions have an average pulse of 100 beats per minute or higher.\n",
    "* 75% of all the training session have an average pulse of 111 or lower. If we flip the statement, it means that 25% of all of the training sessions have an average pulse of 111 beats per minute or higher."
   ]
  },
  {
   "cell_type": "code",
   "execution_count": null,
   "metadata": {},
   "outputs": [],
   "source": [
    "avg_pulse = full_health_data[\"Average_Pulse\"]\n",
    "print(\"parcentile_10\", np.percentile(avg_pulse, 10) )\n",
    "print(\"parcentile_25\", np.percentile(avg_pulse, 25) )\n",
    "print(\"parcentile_50\", np.percentile(avg_pulse, 50) )\n",
    "print(\"parcentile_75\", np.percentile(avg_pulse, 75) )\n",
    "\n"
   ]
  },
  {
   "cell_type": "markdown",
   "metadata": {},
   "source": [
    "### Question: Calculate percentiles for Max_Pulse.\n",
    "You should answer a follow up question in the activity sheet."
   ]
  },
  {
   "cell_type": "markdown",
   "metadata": {},
   "source": [
    "## 1.2 Standard Deviation\n",
    "Standard deviation is a number that describes how spread out the observations are.\n",
    "\n",
    "A mathematical function will have difficulties in predicting precise values, if the observations are \"spread\". Standard deviation is a measure of uncertainty.\n",
    "\n",
    "A low standard deviation means that most of the numbers are close to the mean (average) value.\n",
    "\n",
    "A high standard deviation means that the values are spread out over a wider range."
   ]
  },
  {
   "cell_type": "code",
   "execution_count": null,
   "metadata": {},
   "outputs": [],
   "source": [
    "import numpy as np\n",
    "\n",
    "# We can use the std() function from Numpy to find the standard deviation of a variable:\n",
    "\n",
    "std = np.std(full_health_data)\n",
    "print(std)"
   ]
  },
  {
   "cell_type": "markdown",
   "metadata": {},
   "source": [
    "### 1.2.1 Coefficient of variation\n",
    "\n",
    "In the above cell, what does standard deviation numbers mean?\n",
    "\n",
    "The coefficient of variation is used to get an idea of how large the standard deviation is.\n",
    "\n",
    "Mathematically, the coefficient of variation is defined as: $$Coefficient of Variation = Standard Deviation / Mean$$"
   ]
  },
  {
   "cell_type": "code",
   "execution_count": null,
   "metadata": {},
   "outputs": [],
   "source": [
    "cv = np.std(full_health_data) / np.mean(full_health_data)\n",
    "print(cv)\n",
    "\n",
    "# We see that the variables Duration and Calorie_Burnage has \n",
    "# a high Standard Deviation compared to Max_Pulse, Average_Pulse and Hours_Sleep.\n",
    "# "
   ]
  },
  {
   "cell_type": "markdown",
   "metadata": {},
   "source": [
    "## 1.3 Variance\n",
    "Variance is another number that indicates how spread out the values are.\n",
    "\n",
    "In fact, if you take the square root of the variance, you get the standard deviation. Or the other way around, if you multiply the standard deviation by itself, you get the variance!"
   ]
  },
  {
   "cell_type": "code",
   "execution_count": null,
   "metadata": {},
   "outputs": [],
   "source": [
    "var = np.var(full_health_data)\n",
    "print(var)"
   ]
  },
  {
   "cell_type": "markdown",
   "metadata": {},
   "source": [
    "## 1.4 Correlation\n",
    "\n",
    "Correlation measures the relationship between two variables.\n",
    "\n",
    "A function has a purpose to predict a value, by converting input (x) to output (f(x)). We can say also say that a function uses the relationship between two variables for prediction.\n",
    "\n",
    "### Correlation Coefficient\n",
    "The correlation coefficient measures the relationship between two variables.\n",
    "\n",
    "The correlation coefficient can never be less than -1 or higher than 1.\n",
    "* 1 = there is a perfect linear relationship between the variables\n",
    "* 0 = there is no linear relationship between the variables\n",
    "* -1 = there is a perfect negative linear relationship between the variables\n",
    "\n",
    "#### Perfect Linear Relationship (Correlation Coefficient = 1)\n",
    "\n",
    "it exists a perfect linear relationship between Average_Pulse and Calorie_Burnage."
   ]
  },
  {
   "cell_type": "code",
   "execution_count": null,
   "metadata": {},
   "outputs": [],
   "source": [
    "# Positive correlation\n",
    "# \n",
    "\n",
    "import matplotlib.pyplot as plt\n",
    "\n",
    "def create_linear_health_data():\n",
    "    data = [\n",
    "        {'Duration':30, 'Average_Pulse':80, 'Max_Pulse':120,'Calorie_Burnage':240,'Hours_Work':10,'Hours_Sleep':7},\n",
    "        {'Duration':45, 'Average_Pulse':85, 'Max_Pulse':120,'Calorie_Burnage':250,'Hours_Work':10,'Hours_Sleep':7},\n",
    "        {'Duration':45, 'Average_Pulse':90, 'Max_Pulse':130,'Calorie_Burnage':260,'Hours_Work':8,'Hours_Sleep':7},\n",
    "        {'Duration':60, 'Average_Pulse':95, 'Max_Pulse':130,'Calorie_Burnage':270,'Hours_Work':8,'Hours_Sleep':7},\n",
    "        {'Duration':60, 'Average_Pulse':100, 'Max_Pulse':140,'Calorie_Burnage':280,'Hours_Work':0,'Hours_Sleep':7},\n",
    "        {'Duration':60, 'Average_Pulse':105, 'Max_Pulse':140,'Calorie_Burnage':290,'Hours_Work':7,'Hours_Sleep':8},\n",
    "        {'Duration':60, 'Average_Pulse':110, 'Max_Pulse':145,'Calorie_Burnage':300,'Hours_Work':7,'Hours_Sleep':8},\n",
    "        {'Duration':45, 'Average_Pulse':115, 'Max_Pulse':145,'Calorie_Burnage':310,'Hours_Work':8,'Hours_Sleep':8},\n",
    "        {'Duration':60, 'Average_Pulse':120, 'Max_Pulse':150,'Calorie_Burnage':320,'Hours_Work':0,'Hours_Sleep':8},\n",
    "        {'Duration':45, 'Average_Pulse':125, 'Max_Pulse':150,'Calorie_Burnage':330,'Hours_Work':8,'Hours_Sleep':8},\n",
    "    ]\n",
    "    return data\n",
    "\n",
    "health_data = pd.DataFrame.from_dict(create_linear_health_data())\n",
    "health_data.plot(x ='Average_Pulse', y='Calorie_Burnage', kind='scatter')\n",
    "plt.show()"
   ]
  },
  {
   "cell_type": "markdown",
   "metadata": {},
   "source": [
    "#### Perfect Negative Linear Relationship (Correlation Coefficient = -1)\n",
    "\n",
    "We have plotted fictional data here. The x-axis represents the amount of hours worked at our job before a training session. The y-axis is Calorie_Burnage.\n",
    "\n",
    "If we work longer hours, we tend to have lower calorie burnage because we are exhausted before the training session.\n",
    "\n",
    "The correlation coefficient here is -1."
   ]
  },
  {
   "cell_type": "code",
   "execution_count": null,
   "metadata": {},
   "outputs": [],
   "source": [
    "# Negative correlation\n",
    "# \n",
    "negative_corr = {'Hours_Work_Before_Training': [10,9,8,7,6,5,4,3,2,1],\n",
    "'Calorie_Burnage': [220,240,260,280,300,320,340,360,380,400]}\n",
    "negative_corr = pd.DataFrame(data=negative_corr)\n",
    "\n",
    "negative_corr.plot(x ='Hours_Work_Before_Training', y='Calorie_Burnage', kind='scatter')\n",
    "plt.show()"
   ]
  },
  {
   "cell_type": "markdown",
   "metadata": {},
   "source": [
    "##### No Linear Relationship (Correlation coefficient = 0)\n",
    "\n",
    "As you can see, there is no linear relationship between the two variables. It means that longer training session does not lead to higher Max_Pulse.\n",
    "\n",
    "The correlation coefficient here is 0."
   ]
  },
  {
   "cell_type": "code",
   "execution_count": null,
   "metadata": {},
   "outputs": [],
   "source": [
    "full_health_data.plot(x ='Duration', y='Max_Pulse', kind='scatter')\n",
    "plt.show()"
   ]
  },
  {
   "cell_type": "markdown",
   "metadata": {},
   "source": [
    "## 1.5 Correlation Matrix\n",
    "\n",
    "A matrix is an array of numbers arranged in rows and columns.\n",
    "\n",
    "A correlation matrix is simply a table showing the correlation coefficients between variables.\n",
    "\n",
    "We can use the corr() function in Python to create a correlation matrix. We also use the round() function to round the output to two decimals:"
   ]
  },
  {
   "cell_type": "code",
   "execution_count": null,
   "metadata": {},
   "outputs": [],
   "source": [
    "Corr_Matrix = round(full_health_data.corr(),2)\n",
    "print(Corr_Matrix)\n",
    "\n",
    "# Drop 2 columns - Hours_Work and Hours_Sleep to view the matrix nice.\n",
    "# \n",
    "health_part = full_health_data.drop(columns=['Hours_Work', 'Hours_Sleep'])\n",
    "Corr_Matrix = round(health_part.corr(),2)\n",
    "print(Corr_Matrix)"
   ]
  },
  {
   "cell_type": "markdown",
   "metadata": {},
   "source": [
    "##### Using a Heatmap\n",
    "\n",
    "We can use a Heatmap to Visualize the Correlation Between Variables:"
   ]
  },
  {
   "cell_type": "code",
   "execution_count": null,
   "metadata": {},
   "outputs": [],
   "source": [
    "import matplotlib.pyplot as plt\n",
    "import seaborn as sns\n",
    "\n",
    "correlation_full_health = full_health_data.corr()\n",
    "\n",
    "axis_corr = sns.heatmap(\n",
    "    correlation_full_health,\n",
    "    vmin=-1, vmax=1, center=0,\n",
    "    cmap=sns.diverging_palette(50, 500, n=500),\n",
    "    square=True\n",
    ")\n",
    "\n",
    "plt.show()"
   ]
  },
  {
   "cell_type": "markdown",
   "metadata": {},
   "source": [
    "## 1.6 Correlation Does not imply Causality\n",
    "\n",
    "Correlation measures the numerical relationship between two variables.\n",
    "\n",
    "A high correlation coefficient (close to 1), does not mean that we can for sure conclude an actual relationship between two variables.\n",
    "\n",
    "A classic example:\n",
    "\n",
    "* During the summer, the sale of ice cream at a beach increases\n",
    "* Simultaneously, drowning accidents also increase as well\n",
    "\n",
    "**Question:** Does this mean that increase of ice cream sale is a direct cause of increased drowning accidents?\n",
    "\n"
   ]
  },
  {
   "cell_type": "markdown",
   "metadata": {},
   "source": [
    "## 1.7 Linear Regression\n",
    "\n",
    "The term regression is used when you try to find the relationship between variables.\n",
    "\n",
    "In Machine Learning and in statistical modeling, that relationship is used to predict the outcome of events.\n",
    "\n",
    "We will use Scikit-learn to train various regression models. Scikit-learn is a popular Machine Learning (ML) library that offers various tools for creating and training ML algorithms, feature engineering, data cleaning, and evaluating and testing models. It was designed to be accessible, and to work seamlessly with popular libraries like NumPy and Pandas.\n",
    "\n",
    "We see how to apply a simple regression model for predicting Calorie_Burnage on various factors such as Average_Pulse or Duration.\n"
   ]
  },
  {
   "cell_type": "code",
   "execution_count": null,
   "metadata": {},
   "outputs": [],
   "source": [
    "!pip install seaborn plotly\n",
    "\n",
    "import numpy as np\n",
    "import plotly.express as px\n",
    "import plotly.graph_objects as go\n",
    "from sklearn.linear_model import LinearRegression\n",
    "\n",
    "df = full_health_data\n",
    "X = df.Average_Pulse.values.reshape(-1, 1)\n",
    "\n",
    "model = LinearRegression()\n",
    "model.fit(X, df.Calorie_Burnage)\n",
    "\n",
    "x_range = np.linspace(X.min(), X.max(), 100)\n",
    "y_range = model.predict(x_range.reshape(-1, 1))\n",
    "\n",
    "fig = px.scatter(df, x='Average_Pulse', y='Calorie_Burnage', opacity=0.65)\n",
    "fig.add_traces(go.Scatter(x=x_range, y=y_range, name='Regression Fit'))\n",
    "fig.show()"
   ]
  },
  {
   "cell_type": "markdown",
   "metadata": {},
   "source": [
    "#### Question:\n",
    "\n",
    "We have seen earlier how to apply a simple regression model for predicting Calorie_Burnage from Average_Pulse. There might be another candidate Duration in addition to Average_Pulse. You will need to repeat the above linear regression process to find relationsthip between Calorie_Burnage and Duration.\n",
    "\n",
    "Comment on the both regression lines: Calorie_Burnage - Average_Pulse and Calorie_Burnage - Duration. "
   ]
  },
  {
   "cell_type": "code",
   "execution_count": null,
   "metadata": {},
   "outputs": [],
   "source": []
  }
 ],
 "metadata": {
  "kernelspec": {
   "display_name": ".venv",
   "language": "python",
   "name": "python3"
  },
  "language_info": {
   "codemirror_mode": {
    "name": "ipython",
    "version": 3
   },
   "file_extension": ".py",
   "mimetype": "text/x-python",
   "name": "python",
   "nbconvert_exporter": "python",
   "pygments_lexer": "ipython3",
   "version": "3.10.9"
  }
 },
 "nbformat": 4,
 "nbformat_minor": 2
}

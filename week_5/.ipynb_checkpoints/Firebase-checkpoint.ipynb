{
 "cells": [
  {
   "cell_type": "code",
   "execution_count": 1,
   "id": "bb468964-916e-4b45-97fc-5a2b22721e22",
   "metadata": {},
   "outputs": [
    {
     "name": "stdout",
     "output_type": "stream",
     "text": [
      "Requirement already satisfied: firebase_admin in c:\\users\\user-pc\\anaconda3\\lib\\site-packages (7.1.0)\n",
      "Requirement already satisfied: cachecontrol>=0.14.3 in c:\\users\\user-pc\\anaconda3\\lib\\site-packages (from firebase_admin) (0.14.3)\n",
      "Requirement already satisfied: google-api-core<3.0.0dev,>=2.25.1 in c:\\users\\user-pc\\anaconda3\\lib\\site-packages (from google-api-core[grpc]<3.0.0dev,>=2.25.1; platform_python_implementation != \"PyPy\"->firebase_admin) (2.25.1)\n",
      "Requirement already satisfied: google-cloud-firestore>=2.21.0 in c:\\users\\user-pc\\anaconda3\\lib\\site-packages (from firebase_admin) (2.21.0)\n",
      "Requirement already satisfied: google-cloud-storage>=3.1.1 in c:\\users\\user-pc\\anaconda3\\lib\\site-packages (from firebase_admin) (3.2.0)\n",
      "Requirement already satisfied: pyjwt>=2.10.1 in c:\\users\\user-pc\\anaconda3\\lib\\site-packages (from pyjwt[crypto]>=2.10.1->firebase_admin) (2.10.1)\n",
      "Requirement already satisfied: httpx==0.28.1 in c:\\users\\user-pc\\anaconda3\\lib\\site-packages (from httpx[http2]==0.28.1->firebase_admin) (0.28.1)\n",
      "Requirement already satisfied: anyio in c:\\users\\user-pc\\anaconda3\\lib\\site-packages (from httpx==0.28.1->httpx[http2]==0.28.1->firebase_admin) (4.2.0)\n",
      "Requirement already satisfied: certifi in c:\\users\\user-pc\\anaconda3\\lib\\site-packages (from httpx==0.28.1->httpx[http2]==0.28.1->firebase_admin) (2024.8.30)\n",
      "Requirement already satisfied: httpcore==1.* in c:\\users\\user-pc\\anaconda3\\lib\\site-packages (from httpx==0.28.1->httpx[http2]==0.28.1->firebase_admin) (1.0.2)\n",
      "Requirement already satisfied: idna in c:\\users\\user-pc\\anaconda3\\lib\\site-packages (from httpx==0.28.1->httpx[http2]==0.28.1->firebase_admin) (3.7)\n",
      "Requirement already satisfied: h2<5,>=3 in c:\\users\\user-pc\\anaconda3\\lib\\site-packages (from httpx[http2]==0.28.1->firebase_admin) (4.2.0)\n",
      "Requirement already satisfied: h11<0.15,>=0.13 in c:\\users\\user-pc\\anaconda3\\lib\\site-packages (from httpcore==1.*->httpx==0.28.1->httpx[http2]==0.28.1->firebase_admin) (0.14.0)\n",
      "Requirement already satisfied: requests>=2.16.0 in c:\\users\\user-pc\\anaconda3\\lib\\site-packages (from cachecontrol>=0.14.3->firebase_admin) (2.32.3)\n",
      "Requirement already satisfied: msgpack<2.0.0,>=0.5.2 in c:\\users\\user-pc\\anaconda3\\lib\\site-packages (from cachecontrol>=0.14.3->firebase_admin) (1.0.3)\n",
      "Requirement already satisfied: googleapis-common-protos<2.0.0,>=1.56.2 in c:\\users\\user-pc\\anaconda3\\lib\\site-packages (from google-api-core<3.0.0dev,>=2.25.1->google-api-core[grpc]<3.0.0dev,>=2.25.1; platform_python_implementation != \"PyPy\"->firebase_admin) (1.70.0)\n",
      "Requirement already satisfied: protobuf!=3.20.0,!=3.20.1,!=4.21.0,!=4.21.1,!=4.21.2,!=4.21.3,!=4.21.4,!=4.21.5,<7.0.0,>=3.19.5 in c:\\users\\user-pc\\anaconda3\\lib\\site-packages (from google-api-core<3.0.0dev,>=2.25.1->google-api-core[grpc]<3.0.0dev,>=2.25.1; platform_python_implementation != \"PyPy\"->firebase_admin) (6.31.1)\n",
      "Requirement already satisfied: proto-plus<2.0.0,>=1.22.3 in c:\\users\\user-pc\\anaconda3\\lib\\site-packages (from google-api-core<3.0.0dev,>=2.25.1->google-api-core[grpc]<3.0.0dev,>=2.25.1; platform_python_implementation != \"PyPy\"->firebase_admin) (1.26.1)\n",
      "Requirement already satisfied: google-auth<3.0.0,>=2.14.1 in c:\\users\\user-pc\\anaconda3\\lib\\site-packages (from google-api-core<3.0.0dev,>=2.25.1->google-api-core[grpc]<3.0.0dev,>=2.25.1; platform_python_implementation != \"PyPy\"->firebase_admin) (2.40.3)\n",
      "Requirement already satisfied: grpcio<2.0.0,>=1.33.2 in c:\\users\\user-pc\\anaconda3\\lib\\site-packages (from google-api-core[grpc]<3.0.0dev,>=2.25.1; platform_python_implementation != \"PyPy\"->firebase_admin) (1.74.0)\n",
      "Requirement already satisfied: grpcio-status<2.0.0,>=1.33.2 in c:\\users\\user-pc\\anaconda3\\lib\\site-packages (from google-api-core[grpc]<3.0.0dev,>=2.25.1; platform_python_implementation != \"PyPy\"->firebase_admin) (1.74.0)\n",
      "Requirement already satisfied: google-cloud-core<3.0.0,>=1.4.1 in c:\\users\\user-pc\\anaconda3\\lib\\site-packages (from google-cloud-firestore>=2.21.0->firebase_admin) (2.4.3)\n",
      "Requirement already satisfied: google-resumable-media<3.0.0,>=2.7.2 in c:\\users\\user-pc\\anaconda3\\lib\\site-packages (from google-cloud-storage>=3.1.1->firebase_admin) (2.7.2)\n",
      "Requirement already satisfied: google-crc32c<2.0.0,>=1.1.3 in c:\\users\\user-pc\\anaconda3\\lib\\site-packages (from google-cloud-storage>=3.1.1->firebase_admin) (1.7.1)\n",
      "Requirement already satisfied: cryptography>=3.4.0 in c:\\users\\user-pc\\anaconda3\\lib\\site-packages (from pyjwt[crypto]>=2.10.1->firebase_admin) (43.0.0)\n",
      "Requirement already satisfied: cffi>=1.12 in c:\\users\\user-pc\\anaconda3\\lib\\site-packages (from cryptography>=3.4.0->pyjwt[crypto]>=2.10.1->firebase_admin) (1.17.1)\n",
      "Requirement already satisfied: cachetools<6.0,>=2.0.0 in c:\\users\\user-pc\\anaconda3\\lib\\site-packages (from google-auth<3.0.0,>=2.14.1->google-api-core<3.0.0dev,>=2.25.1->google-api-core[grpc]<3.0.0dev,>=2.25.1; platform_python_implementation != \"PyPy\"->firebase_admin) (5.3.3)\n",
      "Requirement already satisfied: pyasn1-modules>=0.2.1 in c:\\users\\user-pc\\anaconda3\\lib\\site-packages (from google-auth<3.0.0,>=2.14.1->google-api-core<3.0.0dev,>=2.25.1->google-api-core[grpc]<3.0.0dev,>=2.25.1; platform_python_implementation != \"PyPy\"->firebase_admin) (0.2.8)\n",
      "Requirement already satisfied: rsa<5,>=3.1.4 in c:\\users\\user-pc\\anaconda3\\lib\\site-packages (from google-auth<3.0.0,>=2.14.1->google-api-core<3.0.0dev,>=2.25.1->google-api-core[grpc]<3.0.0dev,>=2.25.1; platform_python_implementation != \"PyPy\"->firebase_admin) (4.9.1)\n",
      "Requirement already satisfied: hyperframe<7,>=6.1 in c:\\users\\user-pc\\anaconda3\\lib\\site-packages (from h2<5,>=3->httpx[http2]==0.28.1->firebase_admin) (6.1.0)\n",
      "Requirement already satisfied: hpack<5,>=4.1 in c:\\users\\user-pc\\anaconda3\\lib\\site-packages (from h2<5,>=3->httpx[http2]==0.28.1->firebase_admin) (4.1.0)\n",
      "Requirement already satisfied: charset-normalizer<4,>=2 in c:\\users\\user-pc\\anaconda3\\lib\\site-packages (from requests>=2.16.0->cachecontrol>=0.14.3->firebase_admin) (3.3.2)\n",
      "Requirement already satisfied: urllib3<3,>=1.21.1 in c:\\users\\user-pc\\anaconda3\\lib\\site-packages (from requests>=2.16.0->cachecontrol>=0.14.3->firebase_admin) (2.2.3)\n",
      "Requirement already satisfied: sniffio>=1.1 in c:\\users\\user-pc\\anaconda3\\lib\\site-packages (from anyio->httpx==0.28.1->httpx[http2]==0.28.1->firebase_admin) (1.3.0)\n",
      "Requirement already satisfied: pycparser in c:\\users\\user-pc\\anaconda3\\lib\\site-packages (from cffi>=1.12->cryptography>=3.4.0->pyjwt[crypto]>=2.10.1->firebase_admin) (2.21)\n",
      "Requirement already satisfied: pyasn1<0.5.0,>=0.4.6 in c:\\users\\user-pc\\anaconda3\\lib\\site-packages (from pyasn1-modules>=0.2.1->google-auth<3.0.0,>=2.14.1->google-api-core<3.0.0dev,>=2.25.1->google-api-core[grpc]<3.0.0dev,>=2.25.1; platform_python_implementation != \"PyPy\"->firebase_admin) (0.4.8)\n"
     ]
    }
   ],
   "source": [
    "!pip install firebase_admin"
   ]
  },
  {
   "cell_type": "code",
   "execution_count": 2,
   "id": "593ddb07-99ec-436a-9ce2-54e33f39ab69",
   "metadata": {},
   "outputs": [],
   "source": [
    "import firebase_admin"
   ]
  },
  {
   "cell_type": "code",
   "execution_count": 3,
   "id": "513628b0-1520-477e-84d0-5169ac85aadd",
   "metadata": {},
   "outputs": [
    {
     "name": "stdout",
     "output_type": "stream",
     "text": [
      "S224314601 Rooi En Teong\n"
     ]
    }
   ],
   "source": [
    "# Fill in student ID and name\n",
    "# \n",
    "student_id = \"S224314601\"\n",
    "student_first_last_name = \"Rooi En Teong\"\n",
    "print(student_id, student_first_last_name)"
   ]
  },
  {
   "cell_type": "code",
   "execution_count": 4,
   "id": "c273432e-c63f-4250-bd90-30b7d75ed3b0",
   "metadata": {},
   "outputs": [
    {
     "data": {
      "text/plain": [
       "<firebase_admin.App at 0x1437bdc7c20>"
      ]
     },
     "execution_count": 4,
     "metadata": {},
     "output_type": "execute_result"
    }
   ],
   "source": [
    "import firebase_admin\n",
    "from firebase_admin import credentials, db\n",
    "\n",
    "# Load credentials\n",
    "cred = credentials.Certificate(\"serviceAccountKey.json\")\n",
    "\n",
    "# Initialize Firebase app\n",
    "firebase_admin.initialize_app(cred, {\n",
    "    'databaseURL': 'https://sit225-w5-b55d8-default-rtdb.asia-southeast1.firebasedatabase.app/'\n",
    "})\n"
   ]
  },
  {
   "cell_type": "code",
   "execution_count": 5,
   "id": "41c7e4d3-5b9d-4986-aaa1-100a98e71b7e",
   "metadata": {},
   "outputs": [],
   "source": [
    "from firebase_admin import db\n",
    "\n",
    "# A reference point is always needed to be set\n",
    "# before any operation is carried out on a database.\n",
    "# \n",
    "ref = db.reference(\"/\")\n",
    "\n",
    "# JSON format data (key/value pair)\n",
    "data = {  # Outer {} contains inner data structure\n",
    "\t\"Book1\":\n",
    "\t{\n",
    "\t\t\"Title\": \"The Fellowship of the Ring\",\n",
    "\t\t\"Author\": \"J.R.R. Tolkien\",\n",
    "\t\t\"Genre\": \"Epic fantasy\",\n",
    "\t\t\"Price\": 100\n",
    "\t},\n",
    "\t\"Book2\":\n",
    "\t{\n",
    "\t\t\"Title\": \"The Two Towers\",\n",
    "\t\t\"Author\": \"J.R.R. Tolkien\",\n",
    "\t\t\"Genre\": \"Epic fantasy\",\n",
    "\t\t\"Price\": 100\t\n",
    "\t},\n",
    "\t\"Book3\":\n",
    "\t{\n",
    "\t\t\"Title\": \"The Return of the King\",\n",
    "\t\t\"Author\": \"J.R.R. Tolkien\",\n",
    "\t\t\"Genre\": \"Epic fantasy\",\n",
    "\t\t\"Price\": 100\n",
    "\t},\n",
    "\t\"Book4\":\n",
    "\t{\n",
    "\t\t\"Title\": \"Brida\",\n",
    "\t\t\"Author\": \"Paulo Coelho\",\n",
    "\t\t\"Genre\": \"Fiction\",\n",
    "\t\t\"Price\": 100\n",
    "\t}\n",
    "}\n",
    "\n",
    "# JSON format data is set (overwritten) to the reference \n",
    "# point set at /, which is the root node.\n",
    "# \n",
    "ref.set(data)"
   ]
  },
  {
   "cell_type": "code",
   "execution_count": 6,
   "id": "d3f1448d-00c5-41ea-83ed-17a700756b5f",
   "metadata": {},
   "outputs": [
    {
     "name": "stdout",
     "output_type": "stream",
     "text": [
      "{'Book1': {'Author': 'J.R.R. Tolkien', 'Genre': 'Epic fantasy', 'Price': 100, 'Title': 'The Fellowship of the Ring'}, 'Book2': {'Author': 'J.R.R. Tolkien', 'Genre': 'Epic fantasy', 'Price': 100, 'Title': 'The Two Towers'}, 'Book3': {'Author': 'J.R.R. Tolkien', 'Genre': 'Epic fantasy', 'Price': 100, 'Title': 'The Return of the King'}, 'Book4': {'Author': 'Paulo Coelho', 'Genre': 'Fiction', 'Price': 100, 'Title': 'Brida'}}\n",
      "<class 'dict'>\n",
      "Book1: {'Author': 'J.R.R. Tolkien', 'Genre': 'Epic fantasy', 'Price': 100, 'Title': 'The Fellowship of the Ring'}\n",
      "Book2: {'Author': 'J.R.R. Tolkien', 'Genre': 'Epic fantasy', 'Price': 100, 'Title': 'The Two Towers'}\n",
      "Book3: {'Author': 'J.R.R. Tolkien', 'Genre': 'Epic fantasy', 'Price': 100, 'Title': 'The Return of the King'}\n",
      "Book4: {'Author': 'Paulo Coelho', 'Genre': 'Fiction', 'Price': 100, 'Title': 'Brida'}\n",
      "{'Author': 'J.R.R. Tolkien', 'Genre': 'Epic fantasy', 'Price': 100, 'Title': 'The Fellowship of the Ring'}\n"
     ]
    }
   ],
   "source": [
    "ref = db.reference(\"/\")  # set ref point\n",
    "\n",
    "\n",
    "'''\n",
    "ref = db.reference(\"/\"): Points to the root of your Firebase database.\n",
    "ref.get(): Fetches all data stored under / (which includes Book1–Book4).\n",
    "print(books): Displays the whole dictionary.\n",
    "print(type(books)): Confirms that the result is a Python dict.\n",
    "'''\n",
    "# query all data under the ref\n",
    "books = ref.get()  \n",
    "print(books)\n",
    "print(type(books))\n",
    "\n",
    "# print each item separately\n",
    "for key, value in books.items():\n",
    "    print(f\"{key}: {value}\")\n",
    "\n",
    "\n",
    "'''\n",
    "books.items() gets each key-value pair, like \"Book1\": {...}\n",
    "The print() shows one book at a time, nicely formatted.\n",
    "'''\n",
    "# Query /Book1\n",
    "ref = db.reference(\"/Book1\")\n",
    "books = ref.get()\n",
    "print(books)"
   ]
  },
  {
   "cell_type": "code",
   "execution_count": 7,
   "id": "455b27d3-f04a-48a4-a90a-36ae012c77a8",
   "metadata": {},
   "outputs": [],
   "source": [
    "# Write using push() function\n",
    "# Note that a set() is called on top of push()\n",
    "# \n",
    "ref = db.reference(\"/\")\n",
    "ref.set({\n",
    "\t\"Books\":\n",
    "\t{\n",
    "\t\t\"Best_Sellers\": -1\n",
    "\t}\n",
    "})\n",
    "\n",
    "ref = db.reference(\"/Books/Best_Sellers\")\n",
    "\n",
    "for key, value in data.items():\n",
    "\tref.push().set(value)"
   ]
  },
  {
   "cell_type": "code",
   "execution_count": 8,
   "id": "e3f16b5b-fb7f-4f65-928f-9ae5e1627f2e",
   "metadata": {},
   "outputs": [
    {
     "name": "stdout",
     "output_type": "stream",
     "text": [
      "{'-OWnQi-IhBlxukJ5add3': {'Author': 'J.R.R. Tolkien', 'Genre': 'Epic fantasy', 'Price': 100, 'Title': 'The Fellowship of the Ring'}, '-OWnQi8MIGXif5_Xm1Ba': {'Author': 'J.R.R. Tolkien', 'Genre': 'Epic fantasy', 'Price': 100, 'Title': 'The Two Towers'}, '-OWnQiELBffpavmKV0Zp': {'Author': 'J.R.R. Tolkien', 'Genre': 'Epic fantasy', 'Price': 100, 'Title': 'The Return of the King'}, '-OWnQiLYRcIm-8aQNtmU': {'Author': 'Paulo Coelho', 'Genre': 'Fiction', 'Price': 100, 'Title': 'Brida'}}\n"
     ]
    }
   ],
   "source": [
    "# Update data\n",
    "# \n",
    "# Requirement: The price of the books by \n",
    "# J. R. R. Tolkien is reduced to 80 units to \n",
    "# offer a discount.\n",
    "# \n",
    "ref = db.reference(\"/Books/Best_Sellers/\")\n",
    "best_sellers = ref.get()\n",
    "print(best_sellers)\n",
    "for key, value in best_sellers.items():\n",
    "\tif(value[\"Author\"] == \"J.R.R. Tolkien\"):\n",
    "\t\tvalue[\"Price\"] = 90\n",
    "\t\tref.child(key).update({\"Price\":80})"
   ]
  },
  {
   "cell_type": "code",
   "execution_count": 9,
   "id": "31a1d5b4-d8ba-429e-9b26-eb47d7d1509e",
   "metadata": {},
   "outputs": [],
   "source": [
    "# Let's delete all best seller books \n",
    "# with J.R.R. Tolkien as the author.\n",
    "\n",
    "ref = db.reference(\"/Books/Best_Sellers\")\n",
    "\n",
    "for key, value in best_sellers.items():\n",
    "\tif(value[\"Author\"] == \"J.R.R. Tolkien\"):\n",
    "\t\tref.child(key).set({})"
   ]
  },
  {
   "cell_type": "code",
   "execution_count": 10,
   "id": "ea69efb1-8967-41a1-ac5c-572a8c075175",
   "metadata": {},
   "outputs": [
    {
     "name": "stdout",
     "output_type": "stream",
     "text": [
      "{'-OWnQiLYRcIm-8aQNtmU': {'Author': 'Paulo Coelho', 'Genre': 'Fiction', 'Price': 100, 'Title': 'Brida'}}\n",
      "<class 'dict'>\n"
     ]
    }
   ],
   "source": [
    "# Delete all best_seller data.\n",
    "# \n",
    "ref = db.reference(\"/Books/Best_Sellers/\")\n",
    "best_sellers = ref.get()\n",
    "print(best_sellers)\n",
    "print(type(best_sellers))\n",
    "\n",
    "ref = db.reference(\"/Books/Best_Sellers\")\n",
    "ref.set({})"
   ]
  }
 ],
 "metadata": {
  "kernelspec": {
   "display_name": "Python 3 (ipykernel)",
   "language": "python",
   "name": "python3"
  },
  "language_info": {
   "codemirror_mode": {
    "name": "ipython",
    "version": 3
   },
   "file_extension": ".py",
   "mimetype": "text/x-python",
   "name": "python",
   "nbconvert_exporter": "python",
   "pygments_lexer": "ipython3",
   "version": "3.12.7"
  }
 },
 "nbformat": 4,
 "nbformat_minor": 5
}

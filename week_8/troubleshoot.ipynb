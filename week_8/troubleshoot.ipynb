{
 "cells": [
  {
   "cell_type": "code",
   "execution_count": 1,
   "id": "ae0c34d9",
   "metadata": {},
   "outputs": [
    {
     "name": "stdout",
     "output_type": "stream",
     "text": [
      "Requirement already satisfied: arduino_iot_cloud in c:\\users\\user-pc\\anaconda3\\lib\\site-packages (1.4.1)Note: you may need to restart the kernel to use updated packages.\n",
      "\n",
      "Requirement already satisfied: cbor2>=5.6.2 in c:\\users\\user-pc\\anaconda3\\lib\\site-packages (from arduino_iot_cloud) (5.7.0)\n",
      "Requirement already satisfied: micropython-senml>=0.1.1 in c:\\users\\user-pc\\anaconda3\\lib\\site-packages (from arduino_iot_cloud) (0.1.1)\n"
     ]
    },
    {
     "ename": "AttributeError",
     "evalue": "type object 'RuntimeError' has no attribute 'tb_frame'",
     "output_type": "error",
     "traceback": [
      "\u001b[1;31m---------------------------------------------------------------------------\u001b[0m",
      "\u001b[1;31mRuntimeError\u001b[0m                              Traceback (most recent call last)",
      "Cell \u001b[1;32mIn[1], line 33\u001b[0m\n\u001b[0;32m     32\u001b[0m \u001b[38;5;28;01mtry\u001b[39;00m:\n\u001b[1;32m---> 33\u001b[0m     main()  \u001b[38;5;66;03m# main function which runs in an internal infinite loop\u001b[39;00m\n\u001b[0;32m     34\u001b[0m \u001b[38;5;28;01mexcept\u001b[39;00m:\n",
      "Cell \u001b[1;32mIn[1], line 28\u001b[0m, in \u001b[0;36mmain\u001b[1;34m()\u001b[0m\n\u001b[0;32m     27\u001b[0m \u001b[38;5;66;03m# start cloud client\u001b[39;00m\n\u001b[1;32m---> 28\u001b[0m client\u001b[38;5;241m.\u001b[39mstart()\n",
      "File \u001b[1;32mc:\\Users\\User-PC\\anaconda3\\Lib\\site-packages\\arduino_iot_cloud\\ucloud.py:438\u001b[0m, in \u001b[0;36mArduinoCloudClient.start\u001b[1;34m(self, interval, backoff)\u001b[0m\n\u001b[0;32m    437\u001b[0m \u001b[38;5;28;01mif\u001b[39;00m \u001b[38;5;28mself\u001b[39m\u001b[38;5;241m.\u001b[39masync_mode:\n\u001b[1;32m--> 438\u001b[0m     asyncio\u001b[38;5;241m.\u001b[39mrun(\u001b[38;5;28mself\u001b[39m\u001b[38;5;241m.\u001b[39mrun(interval, backoff))\n\u001b[0;32m    439\u001b[0m     \u001b[38;5;28;01mreturn\u001b[39;00m\n",
      "File \u001b[1;32mc:\\Users\\User-PC\\anaconda3\\Lib\\asyncio\\runners.py:190\u001b[0m, in \u001b[0;36mrun\u001b[1;34m(main, debug, loop_factory)\u001b[0m\n\u001b[0;32m    188\u001b[0m \u001b[38;5;28;01mif\u001b[39;00m events\u001b[38;5;241m.\u001b[39m_get_running_loop() \u001b[38;5;129;01mis\u001b[39;00m \u001b[38;5;129;01mnot\u001b[39;00m \u001b[38;5;28;01mNone\u001b[39;00m:\n\u001b[0;32m    189\u001b[0m     \u001b[38;5;66;03m# fail fast with short traceback\u001b[39;00m\n\u001b[1;32m--> 190\u001b[0m     \u001b[38;5;28;01mraise\u001b[39;00m \u001b[38;5;167;01mRuntimeError\u001b[39;00m(\n\u001b[0;32m    191\u001b[0m         \u001b[38;5;124m\"\u001b[39m\u001b[38;5;124masyncio.run() cannot be called from a running event loop\u001b[39m\u001b[38;5;124m\"\u001b[39m)\n\u001b[0;32m    193\u001b[0m \u001b[38;5;28;01mwith\u001b[39;00m Runner(debug\u001b[38;5;241m=\u001b[39mdebug, loop_factory\u001b[38;5;241m=\u001b[39mloop_factory) \u001b[38;5;28;01mas\u001b[39;00m runner:\n",
      "\u001b[1;31mRuntimeError\u001b[0m: asyncio.run() cannot be called from a running event loop",
      "\nDuring handling of the above exception, another exception occurred:\n",
      "\u001b[1;31mAttributeError\u001b[0m                            Traceback (most recent call last)",
      "Cell \u001b[1;32mIn[1], line 36\u001b[0m\n\u001b[0;32m     34\u001b[0m \u001b[38;5;28;01mexcept\u001b[39;00m:\n\u001b[0;32m     35\u001b[0m     exc_type, exc_value, exc_traceback \u001b[38;5;241m=\u001b[39m sys\u001b[38;5;241m.\u001b[39mexc_info()\n\u001b[1;32m---> 36\u001b[0m     traceback\u001b[38;5;241m.\u001b[39mprint_tb(exc_type, file\u001b[38;5;241m=\u001b[39m\u001b[38;5;28mprint\u001b[39m)\n",
      "File \u001b[1;32mc:\\Users\\User-PC\\anaconda3\\Lib\\traceback.py:55\u001b[0m, in \u001b[0;36mprint_tb\u001b[1;34m(tb, limit, file)\u001b[0m\n\u001b[0;32m     47\u001b[0m \u001b[38;5;28;01mdef\u001b[39;00m\u001b[38;5;250m \u001b[39m\u001b[38;5;21mprint_tb\u001b[39m(tb, limit\u001b[38;5;241m=\u001b[39m\u001b[38;5;28;01mNone\u001b[39;00m, file\u001b[38;5;241m=\u001b[39m\u001b[38;5;28;01mNone\u001b[39;00m):\n\u001b[0;32m     48\u001b[0m \u001b[38;5;250m    \u001b[39m\u001b[38;5;124;03m\"\"\"Print up to 'limit' stack trace entries from the traceback 'tb'.\u001b[39;00m\n\u001b[0;32m     49\u001b[0m \n\u001b[0;32m     50\u001b[0m \u001b[38;5;124;03m    If 'limit' is omitted or None, all entries are printed.  If 'file'\u001b[39;00m\n\u001b[1;32m   (...)\u001b[0m\n\u001b[0;32m     53\u001b[0m \u001b[38;5;124;03m    method.\u001b[39;00m\n\u001b[0;32m     54\u001b[0m \u001b[38;5;124;03m    \"\"\"\u001b[39;00m\n\u001b[1;32m---> 55\u001b[0m     print_list(extract_tb(tb, limit\u001b[38;5;241m=\u001b[39mlimit), file\u001b[38;5;241m=\u001b[39mfile)\n",
      "File \u001b[1;32mc:\\Users\\User-PC\\anaconda3\\Lib\\traceback.py:74\u001b[0m, in \u001b[0;36mextract_tb\u001b[1;34m(tb, limit)\u001b[0m\n\u001b[0;32m     61\u001b[0m \u001b[38;5;28;01mdef\u001b[39;00m\u001b[38;5;250m \u001b[39m\u001b[38;5;21mextract_tb\u001b[39m(tb, limit\u001b[38;5;241m=\u001b[39m\u001b[38;5;28;01mNone\u001b[39;00m):\n\u001b[0;32m     62\u001b[0m \u001b[38;5;250m    \u001b[39m\u001b[38;5;124;03m\"\"\"\u001b[39;00m\n\u001b[0;32m     63\u001b[0m \u001b[38;5;124;03m    Return a StackSummary object representing a list of\u001b[39;00m\n\u001b[0;32m     64\u001b[0m \u001b[38;5;124;03m    pre-processed entries from traceback.\u001b[39;00m\n\u001b[1;32m   (...)\u001b[0m\n\u001b[0;32m     72\u001b[0m \u001b[38;5;124;03m    whitespace stripped; if the source is not available it is None.\u001b[39;00m\n\u001b[0;32m     73\u001b[0m \u001b[38;5;124;03m    \"\"\"\u001b[39;00m\n\u001b[1;32m---> 74\u001b[0m     \u001b[38;5;28;01mreturn\u001b[39;00m StackSummary\u001b[38;5;241m.\u001b[39m_extract_from_extended_frame_gen(\n\u001b[0;32m     75\u001b[0m         _walk_tb_with_full_positions(tb), limit\u001b[38;5;241m=\u001b[39mlimit)\n",
      "File \u001b[1;32mc:\\Users\\User-PC\\anaconda3\\Lib\\traceback.py:418\u001b[0m, in \u001b[0;36mStackSummary._extract_from_extended_frame_gen\u001b[1;34m(klass, frame_gen, limit, lookup_lines, capture_locals)\u001b[0m\n\u001b[0;32m    416\u001b[0m result \u001b[38;5;241m=\u001b[39m klass()\n\u001b[0;32m    417\u001b[0m fnames \u001b[38;5;241m=\u001b[39m \u001b[38;5;28mset\u001b[39m()\n\u001b[1;32m--> 418\u001b[0m \u001b[38;5;28;01mfor\u001b[39;00m f, (lineno, end_lineno, colno, end_colno) \u001b[38;5;129;01min\u001b[39;00m frame_gen:\n\u001b[0;32m    419\u001b[0m     co \u001b[38;5;241m=\u001b[39m f\u001b[38;5;241m.\u001b[39mf_code\n\u001b[0;32m    420\u001b[0m     filename \u001b[38;5;241m=\u001b[39m co\u001b[38;5;241m.\u001b[39mco_filename\n",
      "File \u001b[1;32mc:\\Users\\User-PC\\anaconda3\\Lib\\traceback.py:355\u001b[0m, in \u001b[0;36m_walk_tb_with_full_positions\u001b[1;34m(tb)\u001b[0m\n\u001b[0;32m    351\u001b[0m \u001b[38;5;28;01mdef\u001b[39;00m\u001b[38;5;250m \u001b[39m\u001b[38;5;21m_walk_tb_with_full_positions\u001b[39m(tb):\n\u001b[0;32m    352\u001b[0m     \u001b[38;5;66;03m# Internal version of walk_tb that yields full code positions including\u001b[39;00m\n\u001b[0;32m    353\u001b[0m     \u001b[38;5;66;03m# end line and column information.\u001b[39;00m\n\u001b[0;32m    354\u001b[0m     \u001b[38;5;28;01mwhile\u001b[39;00m tb \u001b[38;5;129;01mis\u001b[39;00m \u001b[38;5;129;01mnot\u001b[39;00m \u001b[38;5;28;01mNone\u001b[39;00m:\n\u001b[1;32m--> 355\u001b[0m         positions \u001b[38;5;241m=\u001b[39m _get_code_position(tb\u001b[38;5;241m.\u001b[39mtb_frame\u001b[38;5;241m.\u001b[39mf_code, tb\u001b[38;5;241m.\u001b[39mtb_lasti)\n\u001b[0;32m    356\u001b[0m         \u001b[38;5;66;03m# Yield tb_lineno when co_positions does not have a line number to\u001b[39;00m\n\u001b[0;32m    357\u001b[0m         \u001b[38;5;66;03m# maintain behavior with walk_tb.\u001b[39;00m\n\u001b[0;32m    358\u001b[0m         \u001b[38;5;28;01mif\u001b[39;00m positions[\u001b[38;5;241m0\u001b[39m] \u001b[38;5;129;01mis\u001b[39;00m \u001b[38;5;28;01mNone\u001b[39;00m:\n",
      "\u001b[1;31mAttributeError\u001b[0m: type object 'RuntimeError' has no attribute 'tb_frame'"
     ]
    }
   ],
   "source": [
    "import os\n",
    "import sys\n",
    "import logging\n",
    "from datetime import datetime\n",
    "import asyncio\n",
    "%pip install arduino_iot_cloud\n",
    "\n",
    "import traceback\n",
    "from arduino_iot_cloud import ArduinoCloudClient\n",
    "\n",
    "# === CONFIG (your Manual/Python device creds) ===\n",
    "DEVICE_ID  = \"03f1bc3c-d0d3-49d7-b8d6-f10c9f686183\"\n",
    "SECRET_KEY = \"BWK2OAz9MxQ9FynKfvIl4Advy\"\n",
    "\n",
    "\n",
    "def on_x_changed(client, value): print(\"x\", value)\n",
    "def on_y_changed(client, value): print(\"y\", value)\n",
    "def on_z_changed(client, value): print(\"z\", value)\n",
    "\n",
    "def main():\n",
    "    client = ArduinoCloudClient (device_id = DEVICE_ID, username=DEVICE_ID, password=SECRET_KEY)\n",
    "\n",
    "    client.register(\n",
    "        \"x\", value=None, \n",
    "        on_write=on_x_changed)\n",
    "\n",
    "    # start cloud client\n",
    "    client.start()\n",
    "\n",
    "\n",
    "if __name__ == \"__main__\":\n",
    "    try:\n",
    "        main()  # main function which runs in an internal infinite loop\n",
    "    except:\n",
    "        exc_type, exc_value, exc_traceback = sys.exc_info()\n",
    "        traceback.print_tb(exc_type, file=print)"
   ]
  },
  {
   "cell_type": "code",
   "execution_count": null,
   "id": "83bd332b",
   "metadata": {},
   "outputs": [],
   "source": []
  }
 ],
 "metadata": {
  "kernelspec": {
   "display_name": "base",
   "language": "python",
   "name": "python3"
  },
  "language_info": {
   "codemirror_mode": {
    "name": "ipython",
    "version": 3
   },
   "file_extension": ".py",
   "mimetype": "text/x-python",
   "name": "python",
   "nbconvert_exporter": "python",
   "pygments_lexer": "ipython3",
   "version": "3.12.7"
  }
 },
 "nbformat": 4,
 "nbformat_minor": 5
}

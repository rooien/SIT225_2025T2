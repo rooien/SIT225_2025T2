{
 "cells": [
  {
   "cell_type": "markdown",
   "id": "55b934c4-fece-4233-ad13-5826318bea45",
   "metadata": {},
   "source": [
    "## Unit Site Activity 6.1 \n",
    "\n",
    "Name : Rooi En Teong\n",
    "\n",
    "Student ID : S224314601 "
   ]
  },
  {
   "cell_type": "code",
   "execution_count": 1,
   "id": "ca163ef2-bfaf-4ce7-8e1e-33e611bb0385",
   "metadata": {},
   "outputs": [
    {
     "name": "stdout",
     "output_type": "stream",
     "text": [
      "Requirement already satisfied: plotly in c:\\users\\user-pc\\anaconda3\\lib\\site-packages (5.24.1)\n",
      "Requirement already satisfied: dash in c:\\users\\user-pc\\anaconda3\\lib\\site-packages (3.2.0)\n",
      "Requirement already satisfied: tenacity>=6.2.0 in c:\\users\\user-pc\\anaconda3\\lib\\site-packages (from plotly) (8.2.3)\n",
      "Requirement already satisfied: packaging in c:\\users\\user-pc\\anaconda3\\lib\\site-packages (from plotly) (24.1)\n",
      "Requirement already satisfied: Flask<3.2,>=1.0.4 in c:\\users\\user-pc\\anaconda3\\lib\\site-packages (from dash) (3.0.3)\n",
      "Requirement already satisfied: Werkzeug<3.2 in c:\\users\\user-pc\\anaconda3\\lib\\site-packages (from dash) (3.0.3)\n",
      "Requirement already satisfied: importlib-metadata in c:\\users\\user-pc\\anaconda3\\lib\\site-packages (from dash) (7.0.1)\n",
      "Requirement already satisfied: typing-extensions>=4.1.1 in c:\\users\\user-pc\\anaconda3\\lib\\site-packages (from dash) (4.11.0)\n",
      "Requirement already satisfied: requests in c:\\users\\user-pc\\anaconda3\\lib\\site-packages (from dash) (2.32.3)\n",
      "Requirement already satisfied: retrying in c:\\users\\user-pc\\anaconda3\\lib\\site-packages (from dash) (1.4.2)\n",
      "Requirement already satisfied: nest-asyncio in c:\\users\\user-pc\\anaconda3\\lib\\site-packages (from dash) (1.6.0)\n",
      "Requirement already satisfied: setuptools in c:\\users\\user-pc\\anaconda3\\lib\\site-packages (from dash) (75.1.0)\n",
      "Requirement already satisfied: Jinja2>=3.1.2 in c:\\users\\user-pc\\anaconda3\\lib\\site-packages (from Flask<3.2,>=1.0.4->dash) (3.1.4)\n",
      "Requirement already satisfied: itsdangerous>=2.1.2 in c:\\users\\user-pc\\anaconda3\\lib\\site-packages (from Flask<3.2,>=1.0.4->dash) (2.2.0)\n",
      "Requirement already satisfied: click>=8.1.3 in c:\\users\\user-pc\\anaconda3\\lib\\site-packages (from Flask<3.2,>=1.0.4->dash) (8.1.7)\n",
      "Requirement already satisfied: blinker>=1.6.2 in c:\\users\\user-pc\\anaconda3\\lib\\site-packages (from Flask<3.2,>=1.0.4->dash) (1.6.2)\n",
      "Requirement already satisfied: MarkupSafe>=2.1.1 in c:\\users\\user-pc\\anaconda3\\lib\\site-packages (from Werkzeug<3.2->dash) (2.1.3)\n",
      "Requirement already satisfied: zipp>=0.5 in c:\\users\\user-pc\\anaconda3\\lib\\site-packages (from importlib-metadata->dash) (3.17.0)\n",
      "Requirement already satisfied: charset-normalizer<4,>=2 in c:\\users\\user-pc\\anaconda3\\lib\\site-packages (from requests->dash) (3.3.2)\n",
      "Requirement already satisfied: idna<4,>=2.5 in c:\\users\\user-pc\\anaconda3\\lib\\site-packages (from requests->dash) (3.7)\n",
      "Requirement already satisfied: urllib3<3,>=1.21.1 in c:\\users\\user-pc\\anaconda3\\lib\\site-packages (from requests->dash) (2.2.3)\n",
      "Requirement already satisfied: certifi>=2017.4.17 in c:\\users\\user-pc\\anaconda3\\lib\\site-packages (from requests->dash) (2024.8.30)\n",
      "Requirement already satisfied: colorama in c:\\users\\user-pc\\anaconda3\\lib\\site-packages (from click>=8.1.3->Flask<3.2,>=1.0.4->dash) (0.4.6)\n"
     ]
    }
   ],
   "source": [
    "! pip install plotly dash"
   ]
  },
  {
   "cell_type": "code",
   "execution_count": 2,
   "id": "1d3651a7-7a75-44ee-ba0d-f8e23a67ab5b",
   "metadata": {},
   "outputs": [],
   "source": [
    "import plotly, dash\n"
   ]
  },
  {
   "cell_type": "code",
   "execution_count": 3,
   "id": "dac76d56-8fc7-4d33-8db7-3f76110a3896",
   "metadata": {},
   "outputs": [
    {
     "name": "stdout",
     "output_type": "stream",
     "text": [
      "Dash app running on http://127.0.0.1:8050/\n"
     ]
    },
    {
     "data": {
      "application/javascript": [
       "window.open('http://127.0.0.1:8050/')"
      ],
      "text/plain": [
       "<IPython.core.display.Javascript object>"
      ]
     },
     "metadata": {},
     "output_type": "display_data"
    }
   ],
   "source": [
    "from dash import Dash, html\n",
    "\n",
    "\"\"\"\n",
    "Initialize the app.\n",
    " \n",
    "This line is known as the Dash constructor and is responsible for initializing your app. \n",
    "It is almost always the same for any Dash app you create.\n",
    "\"\"\" \n",
    "app = Dash()\n",
    "\n",
    "\n",
    "\"\"\"\n",
    "App layout.\n",
    "\n",
    "The app layout represents the app components that will be displayed in the web browser and \n",
    "here is provided as a list, though it could also be a Dash component. \n",
    "In this example, a single component was added to the list: an html.Div. \n",
    "The Div has a few properties, such as children, which we use to add text content to the page: \"Hello World\".\n",
    "\"\"\"\n",
    "app.layout = [\n",
    "    html.Div(children='Hello World'),\n",
    "    #*** Question: Add another html.Div to show your name, and re-run the cell for output.\n",
    "\n",
    "    html.Div(children = \"Rooi En Teong\"),\n",
    "]\n",
    "\n",
    "if __name__ == '__main__':\n",
    "    app.run(debug=True, jupyter_mode=\"tab\")"
   ]
  },
  {
   "cell_type": "markdown",
   "id": "7aedf2f8-605b-4716-b31d-1e8e1ac37ddc",
   "metadata": {},
   "source": [
    "## Connecting to Data\n",
    "There are many ways to add data to an app: APIs, external databases, local .txt files, JSON files, and more. In this example, we will highlight one of the most common ways of incorporating data from a CSV sheet."
   ]
  },
  {
   "cell_type": "code",
   "execution_count": 4,
   "id": "2cc8a8a0-a735-4bd6-8ca7-8a96db85e66f",
   "metadata": {},
   "outputs": [
    {
     "name": "stdout",
     "output_type": "stream",
     "text": [
      "       country         pop continent  lifeExp     gdpPercap\n",
      "0  Afghanistan  31889923.0      Asia   43.828    974.580338\n",
      "1      Albania   3600523.0    Europe   76.423   5937.029526\n",
      "2      Algeria  33333216.0    Africa   72.301   6223.367465\n",
      "3       Angola  12420476.0    Africa   42.731   4797.231267\n",
      "4    Argentina  40301927.0  Americas   75.320  12779.379640\n",
      "Data rowsXcols: (142, 5)\n",
      "Dash app running on http://127.0.0.1:8050/\n"
     ]
    },
    {
     "data": {
      "application/javascript": [
       "window.open('http://127.0.0.1:8050/')"
      ],
      "text/plain": [
       "<IPython.core.display.Javascript object>"
      ]
     },
     "metadata": {},
     "output_type": "display_data"
    }
   ],
   "source": [
    "# Import packages\n",
    "\n",
    "# We import the dash_table module to display the data inside a Dash DataTable.\n",
    "from dash import Dash, html, dash_table\n",
    "\n",
    "# We also import the pandas library to read the CSV sheet data.\n",
    "import pandas as pd\n",
    "\n",
    "# Incorporate data\n",
    "df = pd.read_csv('https://raw.githubusercontent.com/plotly/datasets/master/gapminder2007.csv')\n",
    "\n",
    "# Explore data\n",
    "print(df.head())\n",
    "print(\"Data rowsXcols:\", df.shape)\n",
    "\n",
    "# Initialize the app\n",
    "app = Dash()\n",
    "\n",
    "# App layout. \n",
    "# The 2nd item is a table with only 10 rows per page.\n",
    "app.layout = [\n",
    "    html.Div(children='My First App with Data'),\n",
    "    # dash_table.DataTable(data=df.to_dict('records'), page_size=10)\n",
    "    #*** Question: Change page size and observe the change in widget controls\n",
    "    # such as, total number of pages.\n",
    "    dash_table.DataTable(data=df.to_dict('records'), page_size=20)\n",
    "\n",
    "    \n",
    "]\n",
    "\n",
    "# Run the app\n",
    "if __name__ == '__main__':\n",
    "    app.run(debug=True, jupyter_mode=\"tab\")"
   ]
  },
  {
   "cell_type": "markdown",
   "id": "0b0c6f98-64b0-47b8-aff6-a4e8c483a54c",
   "metadata": {},
   "source": [
    "## Visualising Data \n",
    "The Plotly graphing library has more than 50 chart types to choose from. In this example, we will make use of the histogram chart."
   ]
  },
  {
   "cell_type": "code",
   "execution_count": 5,
   "id": "bc2cc10a-9c6b-407f-9be4-53be90fee246",
   "metadata": {},
   "outputs": [
    {
     "name": "stdout",
     "output_type": "stream",
     "text": [
      "       country         pop continent  lifeExp     gdpPercap\n",
      "0  Afghanistan  31889923.0      Asia   43.828    974.580338\n",
      "1      Albania   3600523.0    Europe   76.423   5937.029526\n",
      "2      Algeria  33333216.0    Africa   72.301   6223.367465\n",
      "3       Angola  12420476.0    Africa   42.731   4797.231267\n",
      "4    Argentina  40301927.0  Americas   75.320  12779.379640\n",
      "Data rowsXcols: (142, 5)\n",
      "Dash app running on http://127.0.0.1:8050/\n"
     ]
    },
    {
     "data": {
      "application/javascript": [
       "window.open('http://127.0.0.1:8050/')"
      ],
      "text/plain": [
       "<IPython.core.display.Javascript object>"
      ]
     },
     "metadata": {},
     "output_type": "display_data"
    }
   ],
   "source": [
    "# Import packages\n",
    "\n",
    "# We import the dcc module (DCC stands for Dash Core Components). \n",
    "# This module includes a Graph component called dcc.Graph, which is used to render interactive graphs.\n",
    "from dash import Dash, html, dash_table, dcc\n",
    "\n",
    "# We also import the plotly.express library to build the interactive graphs.\n",
    "import plotly.express as px\n",
    "\n",
    "import pandas as pd\n",
    "\n",
    "# Incorporate data\n",
    "df = pd.read_csv('https://raw.githubusercontent.com/plotly/datasets/master/gapminder2007.csv')\n",
    "\n",
    "# Explore data\n",
    "print(df.head())\n",
    "print(\"Data rowsXcols:\", df.shape)\n",
    "\n",
    "# Initialize the app\n",
    "app = Dash()\n",
    "\n",
    "# App layout\n",
    "# 3rd component is an interactive graph (interaction no shown this this example).\n",
    "# \n",
    "# Using the plotly.express library, we build the histogram chart \n",
    "# and assign it to the figure property of the dcc.Graph. This displays the histogram in our app.\n",
    "# \n",
    "app.layout = [\n",
    "    html.Div(children='My First App with Data and a Graph'),\n",
    "    dash_table.DataTable(data=df.to_dict('records'), page_size=10),\n",
    "    # dcc.Graph(figure=px.histogram(df, x='continent', y='lifeExp', histfunc='avg'))\n",
    "    #*** Question: Explore another histfunc other than 'avg' used above and observe behaviour.\n",
    "    dcc.Graph(figure=px.histogram(df, x='continent', y='lifeExp', histfunc='sum'))\n",
    "\n",
    "]\n",
    "\n",
    "# Run the app\n",
    "if __name__ == '__main__':\n",
    "    app.run(debug=True, jupyter_mode=\"tab\")"
   ]
  },
  {
   "cell_type": "markdown",
   "id": "8ccb1221-ede1-420d-83a5-1d907f6c60a8",
   "metadata": {},
   "source": [
    "## Control and Callbacks \n",
    "\n",
    "So far you have built a static app that displays tabular data and a graph. However, as you develop more sophisticated Dash apps, you will likely want to give the app user more freedom to interact with the app and explore the data in greater depth. To achieve that, you will need to add controls to the app by using the callback function.\n",
    "\n",
    "In this example we will add radio buttons to the app layout. Then, we will build the callback to create the interaction between the radio buttons and the histogram chart."
   ]
  },
  {
   "cell_type": "code",
   "execution_count": 6,
   "id": "861dd8b9-ebec-43d2-bc36-c7a23836c297",
   "metadata": {},
   "outputs": [
    {
     "name": "stdout",
     "output_type": "stream",
     "text": [
      "Dash app running on http://127.0.0.1:8050/\n"
     ]
    },
    {
     "data": {
      "application/javascript": [
       "window.open('http://127.0.0.1:8050/')"
      ],
      "text/plain": [
       "<IPython.core.display.Javascript object>"
      ]
     },
     "metadata": {},
     "output_type": "display_data"
    }
   ],
   "source": [
    "from dash import Dash, html, dash_table, dcc, callback, Output, Input\n",
    "import pandas as pd\n",
    "import plotly.express as px\n",
    "\n",
    "# Load dataset\n",
    "df = pd.read_csv('https://raw.githubusercontent.com/plotly/datasets/master/gapminder2007.csv')\n",
    "\n",
    "# Aggregate so we have one point per continent\n",
    "agg = df.groupby('continent', as_index=False)[['pop','lifeExp','gdpPercap']].mean()\n",
    "\n",
    "# Initialise Dash app\n",
    "app = Dash(__name__)\n",
    "\n",
    "app.layout = html.Div([\n",
    "    html.Div('My First App with Data, Graph, and Controls'),\n",
    "    html.Hr(),\n",
    "    dcc.RadioItems(options=['pop', 'lifeExp', 'gdpPercap'],\n",
    "                   value='lifeExp',\n",
    "                   id='controls-and-radio-item'),\n",
    "    dash_table.DataTable(data=df.to_dict('records'), page_size=6),\n",
    "    dcc.Graph(figure={}, id='controls-and-graph')\n",
    "])\n",
    "\n",
    "@callback(\n",
    "    Output(component_id='controls-and-graph', component_property='figure'),\n",
    "    Input(component_id='controls-and-radio-item', component_property='value')\n",
    ")\n",
    "def update_graph(col_chosen):\n",
    "    fig = px.line(\n",
    "        agg, x='continent', y=col_chosen, markers=True,\n",
    "        title=f'Average {col_chosen} by Continent (2007)',\n",
    "        category_orders={'continent': ['Africa','Americas','Asia','Europe','Oceania']}\n",
    "    )\n",
    "    return fig\n",
    "\n",
    "if __name__ == '__main__':\n",
    "    app.run(debug=True, jupyter_mode = 'tab')\n"
   ]
  }
 ],
 "metadata": {
  "kernelspec": {
   "display_name": "Python 3 (ipykernel)",
   "language": "python",
   "name": "python3"
  },
  "language_info": {
   "codemirror_mode": {
    "name": "ipython",
    "version": 3
   },
   "file_extension": ".py",
   "mimetype": "text/x-python",
   "name": "python",
   "nbconvert_exporter": "python",
   "pygments_lexer": "ipython3",
   "version": "3.12.7"
  }
 },
 "nbformat": 4,
 "nbformat_minor": 5
}
